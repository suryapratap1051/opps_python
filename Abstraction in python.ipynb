{
 "cells": [
  {
   "cell_type": "code",
   "execution_count": 1,
   "id": "902e1c21",
   "metadata": {},
   "outputs": [
    {
     "name": "stdout",
     "output_type": "stream",
     "text": [
      "SBI interest is 5%\n",
      "HDFC interest is 2%\n"
     ]
    }
   ],
   "source": [
    "class RBI: #abstract class\n",
    "    def interest(self): #abstrcat metheod\n",
    "        pass\n",
    "class SBI(RBI):\n",
    "    def interest(self): #RBI interest impilimation here\n",
    "        print(\"SBI interest is 5%\")\n",
    "class HDFC(RBI):\n",
    "    def interest(self):\n",
    "        print(\"HDFC interest is 2%\")\n",
    "s=SBI()\n",
    "h=HDFC()\n",
    "s.interest()\n",
    "h.interest()\n",
    "    \n",
    "            \n",
    "    \n",
    "    "
   ]
  },
  {
   "cell_type": "code",
   "execution_count": null,
   "id": "09a0a3bf",
   "metadata": {},
   "outputs": [],
   "source": []
  }
 ],
 "metadata": {
  "kernelspec": {
   "display_name": "Python 3 (ipykernel)",
   "language": "python",
   "name": "python3"
  },
  "language_info": {
   "codemirror_mode": {
    "name": "ipython",
    "version": 3
   },
   "file_extension": ".py",
   "mimetype": "text/x-python",
   "name": "python",
   "nbconvert_exporter": "python",
   "pygments_lexer": "ipython3",
   "version": "3.10.9"
  }
 },
 "nbformat": 4,
 "nbformat_minor": 5
}
