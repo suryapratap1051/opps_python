{
 "cells": [
  {
   "cell_type": "markdown",
   "id": "cf35025d",
   "metadata": {},
   "source": [
    "Achieving encapsulation in private"
   ]
  },
  {
   "cell_type": "code",
   "execution_count": 1,
   "id": "d3a8afd3",
   "metadata": {},
   "outputs": [
    {
     "ename": "AttributeError",
     "evalue": "'b' object has no attribute '_a__a'",
     "output_type": "error",
     "traceback": [
      "\u001b[1;31m---------------------------------------------------------------------------\u001b[0m",
      "\u001b[1;31mAttributeError\u001b[0m                            Traceback (most recent call last)",
      "Cell \u001b[1;32mIn[1], line 11\u001b[0m\n\u001b[0;32m      9\u001b[0m     \u001b[38;5;28;01mdef\u001b[39;00m \u001b[38;5;21mshowb\u001b[39m(\u001b[38;5;28mself\u001b[39m):\n\u001b[0;32m     10\u001b[0m         \u001b[38;5;28mprint\u001b[39m(\u001b[38;5;28mself\u001b[39m\u001b[38;5;241m.\u001b[39m__a)\n\u001b[1;32m---> 11\u001b[0m obj\u001b[38;5;241m=\u001b[39m\u001b[43mb\u001b[49m\u001b[43m(\u001b[49m\u001b[38;5;241;43m20\u001b[39;49m\u001b[43m)\u001b[49m\n\u001b[0;32m     12\u001b[0m b\u001b[38;5;241m.\u001b[39mshowb()\n",
      "Cell \u001b[1;32mIn[1], line 8\u001b[0m, in \u001b[0;36mb.__init__\u001b[1;34m(self, b)\u001b[0m\n\u001b[0;32m      7\u001b[0m \u001b[38;5;28;01mdef\u001b[39;00m \u001b[38;5;21m__init__\u001b[39m(\u001b[38;5;28mself\u001b[39m,b):\n\u001b[1;32m----> 8\u001b[0m     \u001b[38;5;28;43msuper\u001b[39;49m\u001b[43m(\u001b[49m\u001b[43m)\u001b[49m\u001b[38;5;241;43m.\u001b[39;49m\u001b[38;5;21;43m__init__\u001b[39;49m\u001b[43m(\u001b[49m\u001b[43mb\u001b[49m\u001b[43m)\u001b[49m\n",
      "Cell \u001b[1;32mIn[1], line 3\u001b[0m, in \u001b[0;36ma.__init__\u001b[1;34m(self, a)\u001b[0m\n\u001b[0;32m      2\u001b[0m \u001b[38;5;28;01mdef\u001b[39;00m \u001b[38;5;21m__init__\u001b[39m(\u001b[38;5;28mself\u001b[39m,a):\n\u001b[1;32m----> 3\u001b[0m     \u001b[38;5;28;43mself\u001b[39;49m\u001b[38;5;241;43m.\u001b[39;49m\u001b[43m__a\u001b[49m\n",
      "\u001b[1;31mAttributeError\u001b[0m: 'b' object has no attribute '_a__a'"
     ]
    }
   ],
   "source": [
    "class a:\n",
    "    def __init__(self,a):\n",
    "        self.__a\n",
    "    def show(self):\n",
    "        print(\"Private Varible:\",self.__a)\n",
    "class b(a):\n",
    "    def __init__(self,b):\n",
    "        super().__init__(b)\n",
    "    def showb(self):\n",
    "        print(self.__a)\n",
    "obj=b(20)\n",
    "b.showb()"
   ]
  },
  {
   "cell_type": "markdown",
   "id": "df947dbb",
   "metadata": {},
   "source": [
    "Achieving encapsulation in protect"
   ]
  },
  {
   "cell_type": "code",
   "execution_count": 2,
   "id": "693761e1",
   "metadata": {},
   "outputs": [
    {
     "name": "stdout",
     "output_type": "stream",
     "text": [
      "Variable Value: 30\n"
     ]
    }
   ],
   "source": [
    "class A:\n",
    "    def __init__(self,a):\n",
    "        self._a=a\n",
    "    def show(self):\n",
    "        print(\"Protected Variable:\",self._a)\n",
    "class B(A):\n",
    "    def __init__(self,b):\n",
    "        super().__init__(b)\n",
    "    def showB(self):\n",
    "        print(\"Variable Value:\",self._a)\n",
    "obj=B(30)\n",
    "obj.showB()"
   ]
  },
  {
   "cell_type": "code",
   "execution_count": null,
   "id": "f0fb5bbc",
   "metadata": {},
   "outputs": [],
   "source": []
  }
 ],
 "metadata": {
  "kernelspec": {
   "display_name": "Python 3 (ipykernel)",
   "language": "python",
   "name": "python3"
  },
  "language_info": {
   "codemirror_mode": {
    "name": "ipython",
    "version": 3
   },
   "file_extension": ".py",
   "mimetype": "text/x-python",
   "name": "python",
   "nbconvert_exporter": "python",
   "pygments_lexer": "ipython3",
   "version": "3.10.9"
  }
 },
 "nbformat": 4,
 "nbformat_minor": 5
}
