{
 "cells": [
  {
   "cell_type": "markdown",
   "id": "054b4ae5",
   "metadata": {},
   "source": [
    "method overloading"
   ]
  },
  {
   "cell_type": "code",
   "execution_count": 6,
   "id": "fc652ee2",
   "metadata": {},
   "outputs": [
    {
     "ename": "TypeError",
     "evalue": "MO.myFunction() missing 2 required positional arguments: 'a' and 'b'",
     "output_type": "error",
     "traceback": [
      "\u001b[1;31m---------------------------------------------------------------------------\u001b[0m",
      "\u001b[1;31mTypeError\u001b[0m                                 Traceback (most recent call last)",
      "Cell \u001b[1;32mIn[6], line 9\u001b[0m\n\u001b[0;32m      7\u001b[0m         \u001b[38;5;28mprint\u001b[39m(\u001b[38;5;124m\"\u001b[39m\u001b[38;5;124mmy function is 2 argument\u001b[39m\u001b[38;5;124m\"\u001b[39m)\n\u001b[0;32m      8\u001b[0m m\u001b[38;5;241m=\u001b[39mMO()\n\u001b[1;32m----> 9\u001b[0m \u001b[43mm\u001b[49m\u001b[38;5;241;43m.\u001b[39;49m\u001b[43mmyFunction\u001b[49m\u001b[43m(\u001b[49m\u001b[43m)\u001b[49m\n",
      "\u001b[1;31mTypeError\u001b[0m: MO.myFunction() missing 2 required positional arguments: 'a' and 'b'"
     ]
    }
   ],
   "source": [
    "class MO:\n",
    "    def myFunction(self):\n",
    "        print(\"my function  is no argument\")\n",
    "    def myFunction(self,a):\n",
    "        print(\"my function is 1 argument\")\n",
    "    def myFunction(self,a,b):\n",
    "        print(\"my function is 2 argument\")\n",
    "m=MO()\n",
    "m.myFunction()"
   ]
  },
  {
   "cell_type": "code",
   "execution_count": 7,
   "id": "e67138d7",
   "metadata": {},
   "outputs": [
    {
     "ename": "TypeError",
     "evalue": "MO.myFunction() missing 1 required positional argument: 'b'",
     "output_type": "error",
     "traceback": [
      "\u001b[1;31m---------------------------------------------------------------------------\u001b[0m",
      "\u001b[1;31mTypeError\u001b[0m                                 Traceback (most recent call last)",
      "Cell \u001b[1;32mIn[7], line 1\u001b[0m\n\u001b[1;32m----> 1\u001b[0m \u001b[43mm\u001b[49m\u001b[38;5;241;43m.\u001b[39;49m\u001b[43mmyFunction\u001b[49m\u001b[43m(\u001b[49m\u001b[38;5;241;43m10\u001b[39;49m\u001b[43m)\u001b[49m\n",
      "\u001b[1;31mTypeError\u001b[0m: MO.myFunction() missing 1 required positional argument: 'b'"
     ]
    }
   ],
   "source": [
    "m.myFunction(10)"
   ]
  },
  {
   "cell_type": "code",
   "execution_count": 8,
   "id": "597905c2",
   "metadata": {},
   "outputs": [
    {
     "name": "stdout",
     "output_type": "stream",
     "text": [
      "my function is 2 argument\n"
     ]
    }
   ],
   "source": [
    "m.myFunction(10,20)"
   ]
  },
  {
   "cell_type": "markdown",
   "id": "dab2e727",
   "metadata": {},
   "source": [
    "NOTE-methoed overloading is not supported in python becuse python is a interprater lunguge"
   ]
  },
  {
   "cell_type": "markdown",
   "id": "5d5e6115",
   "metadata": {},
   "source": [
    "Over Riding"
   ]
  },
  {
   "cell_type": "code",
   "execution_count": 10,
   "id": "cd7b741d",
   "metadata": {},
   "outputs": [
    {
     "name": "stdout",
     "output_type": "stream",
     "text": [
      "class mo3 function is called\n"
     ]
    }
   ],
   "source": [
    "class MO1:\n",
    "    def myfunction(self,a):\n",
    "        print(\"class mo1 function is called\")\n",
    "class MO2(MO1):\n",
    "    def myfunction(self,a):\n",
    "        print(\"class mo2 function is called\")\n",
    "class MO3(MO2):\n",
    "    def myfunction(self,a):\n",
    "        print(\"class mo3 function is called\")\n",
    "m=MO3()  \n",
    "m.myfunction(10)"
   ]
  },
  {
   "cell_type": "code",
   "execution_count": 14,
   "id": "4844fcea",
   "metadata": {},
   "outputs": [
    {
     "name": "stdout",
     "output_type": "stream",
     "text": [
      "class mo3 function is called\n",
      "class mo2 function is called\n",
      "class mo1 function is called\n"
     ]
    }
   ],
   "source": [
    "class MO1:\n",
    "    def myfunction(self,a):\n",
    "        print(\"class mo1 function is called\")\n",
    "class MO2(MO1):\n",
    "    def myfunction(self,a):\n",
    "        print(\"class mo2 function is called\")\n",
    "        super().myfunction(10)\n",
    "class MO3(MO2):\n",
    "    def myfunction(self,a):\n",
    "        print(\"class mo3 function is called\")\n",
    "        super().myfunction(10)\n",
    "m=MO3()  \n",
    "m.myfunction(10)"
   ]
  },
  {
   "cell_type": "code",
   "execution_count": null,
   "id": "51353f70",
   "metadata": {},
   "outputs": [],
   "source": []
  }
 ],
 "metadata": {
  "kernelspec": {
   "display_name": "Python 3 (ipykernel)",
   "language": "python",
   "name": "python3"
  },
  "language_info": {
   "codemirror_mode": {
    "name": "ipython",
    "version": 3
   },
   "file_extension": ".py",
   "mimetype": "text/x-python",
   "name": "python",
   "nbconvert_exporter": "python",
   "pygments_lexer": "ipython3",
   "version": "3.10.9"
  }
 },
 "nbformat": 4,
 "nbformat_minor": 5
}
